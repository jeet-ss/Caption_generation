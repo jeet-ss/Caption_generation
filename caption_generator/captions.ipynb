{
 "cells": [
  {
   "cell_type": "code",
   "execution_count": 1,
   "metadata": {},
   "outputs": [],
   "source": [
    "import string"
   ]
  },
  {
   "cell_type": "code",
   "execution_count": 4,
   "metadata": {},
   "outputs": [],
   "source": [
    "#loading file in memory\n",
    "def load_file(file_name):\n",
    "    # open the file as read only\n",
    "    file = open(file_name, 'r')\n",
    "    # read all text\n",
    "    text = file.read()\n",
    "    # close the file\n",
    "    file.close()\n",
    "    return text\n",
    "\n",
    "#extract descriptions from an image\n",
    "def load_descriptions(file):\n",
    "    mapping = dict()\n",
    "    for line in file.split('\\n'):\n",
    "        #splitting by spaces\n",
    "        temp = line.split()\n",
    "        #discarding very small lines\n",
    "        if len(temp)<2:\n",
    "            continue\n",
    "        #separating id and description\n",
    "        img_id , image_decs = temp[0], temp[1:]\n",
    "        image_id = img_id.split('.')[0]\n",
    "        #putting descp together\n",
    "        image_desc = ' '.join(image_desc)\n",
    "        #creating the Mapping\n",
    "        if image_id not in mapping:\n",
    "            mapping[image_id] = image_desc\n",
    "        return mapping\n",
    "\n",
    "def clean_descriptors(description):\n",
    "    #tabe for removing punctuation, this make all punctuations as None\n",
    "    table = str('', '', string.punctuation)\n",
    "    for key, decs in description.items():\n",
    "        #tokenize the data\n",
    "        desc = desc.split()\n",
    "        #lower case\n",
    "        desc = [word.lower() for word in desc]\n",
    "        #remove punctuation\n",
    "        desc = [word.translate(table) for word in desc]\n",
    "        #removing any stray letters as errands\n",
    "        desc = [word for word in desc if len(word)>1]\n",
    "        #save\n",
    "        description[key] = ' '.join(desc)\n",
    "    return descriptions\n",
    "        \n",
    "#save the descriptors      \n",
    "def save_doc(descriptions, filename):\n",
    "    lines = list()\n",
    "    for key, desc in descriptions.items():\n",
    "        lines.append(key + ' ' + desc)\n",
    "    data = '\\n'.join(lines)\n",
    "    file = open(filename, 'w')\n",
    "    file.write(data)\n",
    "    file.close()      "
   ]
  },
  {
   "cell_type": "code",
   "execution_count": null,
   "metadata": {},
   "outputs": [],
   "source": [
    "filename = '   '\n",
    "\n",
    "file = load_file(filename)\n",
    "descrips = load_descriptions(file)\n",
    "clean_descriptions(descrips)\n",
    "\n",
    "#summarize vocabulary\n",
    "all_words = ' '.join(descrips.values()).split()\n",
    "vocabulary = set(all_words)\n",
    "\n",
    "#save\n",
    "save_doc(descrips, 'descriptions.txt')"
   ]
  }
 ],
 "metadata": {
  "kernelspec": {
   "display_name": "Python 3",
   "language": "python",
   "name": "python3"
  },
  "language_info": {
   "codemirror_mode": {
    "name": "ipython",
    "version": 3
   },
   "file_extension": ".py",
   "mimetype": "text/x-python",
   "name": "python",
   "nbconvert_exporter": "python",
   "pygments_lexer": "ipython3",
   "version": "3.6.4"
  }
 },
 "nbformat": 4,
 "nbformat_minor": 2
}
