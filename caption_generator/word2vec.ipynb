{
 "cells": [
  {
   "cell_type": "code",
   "execution_count": 1,
   "metadata": {},
   "outputs": [
    {
     "ename": "ModuleNotFoundError",
     "evalue": "No module named 'gensim'",
     "output_type": "error",
     "traceback": [
      "\u001b[0;31m---------------------------------------------------------------------------\u001b[0m",
      "\u001b[0;31mModuleNotFoundError\u001b[0m                       Traceback (most recent call last)",
      "\u001b[0;32m<ipython-input-1-a9477122fe38>\u001b[0m in \u001b[0;36m<module>\u001b[0;34m()\u001b[0m\n\u001b[1;32m      1\u001b[0m \u001b[0;32mfrom\u001b[0m \u001b[0mnumpy\u001b[0m \u001b[0;32mimport\u001b[0m \u001b[0masarray\u001b[0m\u001b[0;34m\u001b[0m\u001b[0m\n\u001b[1;32m      2\u001b[0m \u001b[0;32mfrom\u001b[0m \u001b[0mpickle\u001b[0m \u001b[0;32mimport\u001b[0m \u001b[0mdump\u001b[0m\u001b[0;34m\u001b[0m\u001b[0m\n\u001b[0;32m----> 3\u001b[0;31m \u001b[0;32mfrom\u001b[0m \u001b[0mgensim\u001b[0m\u001b[0;34m.\u001b[0m\u001b[0mmodels\u001b[0m \u001b[0;32mimport\u001b[0m \u001b[0mWord2Vec\u001b[0m\u001b[0;34m\u001b[0m\u001b[0m\n\u001b[0m",
      "\u001b[0;31mModuleNotFoundError\u001b[0m: No module named 'gensim'"
     ]
    }
   ],
   "source": [
    "from numpy import asarray\n",
    "from pickle import dump\n",
    "from gensim.models import Word2Vec"
   ]
  },
  {
   "cell_type": "code",
   "execution_count": 2,
   "metadata": {},
   "outputs": [],
   "source": [
    "#loading file in memory\n",
    "def load_file(file_name):\n",
    "    # open the file as read only\n",
    "    file = open(file_name, 'r')\n",
    "    # read all text\n",
    "    text = file.read()\n",
    "    # close the file\n",
    "    file.close()\n",
    "    return text\n",
    "\n",
    "#loading a pre-defined image features(if required)\n",
    "def load_data(filename):\n",
    "    file = load_file(filename)\n",
    "    dataset = list()\n",
    "    for line in file.split('\\n'):\n",
    "        #discard small ones\n",
    "        if len(line)>2:\n",
    "            continue\n",
    "        id = line.split('.')[0]\n",
    "        dataset.append(id)\n",
    "    return dataset\n",
    "\n",
    "#remove punctuations from captions\n",
    "def clean_captions(caption):\n",
    "    #tabe for removing punctuation, this make all punctuations as None\n",
    "    table = str('', '', string.punctuation)\n",
    "    for key, caps in caption.items():\n",
    "        #tokenize the data\n",
    "        caps = caps.split()\n",
    "        #lower case\n",
    "        caps = [word.lower() for word in caps]\n",
    "        #remove punctuation\n",
    "        caps = [word.translate(table) for word in caps]\n",
    "        #removing any stray letters as errands\n",
    "        caps = [word for word in caps if len(word)>1]\n",
    "        #save\n",
    "        captions[key] = ' '.join(caps)\n",
    "    return captions\n",
    "#test_train split\n",
    "def train_test_split(dataset):\n",
    "    sort = sorted(dataset)\n",
    "    return set(sort[:500]), set(sort[500:800])"
   ]
  },
  {
   "cell_type": "code",
   "execution_count": 3,
   "metadata": {},
   "outputs": [
    {
     "ename": "NameError",
     "evalue": "name 'load_set' is not defined",
     "output_type": "error",
     "traceback": [
      "\u001b[0;31m---------------------------------------------------------------------------\u001b[0m",
      "\u001b[0;31mNameError\u001b[0m                                 Traceback (most recent call last)",
      "\u001b[0;32m<ipython-input-3-aad5fd22d101>\u001b[0m in \u001b[0;36m<module>\u001b[0;34m()\u001b[0m\n\u001b[1;32m      1\u001b[0m \u001b[0;31m# load dev set\u001b[0m\u001b[0;34m\u001b[0m\u001b[0;34m\u001b[0m\u001b[0m\n\u001b[1;32m      2\u001b[0m \u001b[0mfilename\u001b[0m \u001b[0;34m=\u001b[0m \u001b[0;34m' '\u001b[0m\u001b[0;34m\u001b[0m\u001b[0m\n\u001b[0;32m----> 3\u001b[0;31m \u001b[0mdataset\u001b[0m \u001b[0;34m=\u001b[0m \u001b[0mload_set\u001b[0m\u001b[0;34m(\u001b[0m\u001b[0mfilename\u001b[0m\u001b[0;34m)\u001b[0m\u001b[0;34m\u001b[0m\u001b[0m\n\u001b[0m\u001b[1;32m      4\u001b[0m \u001b[0;34m\u001b[0m\u001b[0m\n\u001b[1;32m      5\u001b[0m \u001b[0;31m# train-test split\u001b[0m\u001b[0;34m\u001b[0m\u001b[0;34m\u001b[0m\u001b[0m\n",
      "\u001b[0;31mNameError\u001b[0m: name 'load_set' is not defined"
     ]
    }
   ],
   "source": [
    "# load dev set\n",
    "filename = ' '\n",
    "dataset = load_set(filename)\n",
    "\n",
    "# train-test split\n",
    "train, test = train_test_split(dataset)\n",
    "\n",
    "# descriptions\n",
    "train_captions = clean_captions('captions.txt', train)\n",
    "\n",
    " \n",
    "# train word2vec model\n",
    "lines = [s.split() for s in train_captions.values()]\n",
    "model = Word2Vec(lines, size=100, window=5, workers=8, min_count=1)\n",
    "# summarize vocabulary size in model\n",
    "words = list(model.wv.vocab)\n",
    "print('Vocabulary size: %d' % len(words))\n",
    " \n",
    "# save model in ASCII (word2vec) format\n",
    "filename = 'custom_embedding.txt'\n",
    "model.wv.save_word2vec_format(filename, binary=False)"
   ]
  },
  {
   "cell_type": "code",
   "execution_count": null,
   "metadata": {},
   "outputs": [],
   "source": [
    "# load the whole embedding into memory\n",
    "embedding = dict()\n",
    "file = open('custom_embedding.txt')\n",
    "for line in file:\n",
    "    values = line.split()\n",
    "    word = values[0]\n",
    "    coefs = asarray(values[1:], dtype='float32')\n",
    "    embedding[word] = coefs\n",
    "file.close()\n",
    "print('Embedding Size: %d' % len(embedding))\n",
    " \n",
    "# summarize vocabulary\n",
    "all_tokens = ' '.join(train_captions.values()).split()\n",
    "vocabulary = set(all_tokens)\n",
    "print('Vocabulary Size: %d' % len(vocabulary))\n",
    " \n",
    "# get the vectors for words in our vocab\n",
    "cust_embedding = dict()\n",
    "for word in vocabulary:\n",
    "    # check if word in embedding\n",
    "    if word not in embedding:\n",
    "        continue\n",
    "    cust_embedding[word] = embedding[word]\n",
    "print('Custom Embedding %d' % len(cust_embedding))\n",
    " \n",
    "# save\n",
    "dump(cust_embedding, open('word2vec_embedding.pkl', 'wb'))\n",
    "print('Saved Embedding')"
   ]
  }
 ],
 "metadata": {
  "kernelspec": {
   "display_name": "Python 3",
   "language": "python",
   "name": "python3"
  },
  "language_info": {
   "codemirror_mode": {
    "name": "ipython",
    "version": 3
   },
   "file_extension": ".py",
   "mimetype": "text/x-python",
   "name": "python",
   "nbconvert_exporter": "python",
   "pygments_lexer": "ipython3",
   "version": "3.6.4"
  }
 },
 "nbformat": 4,
 "nbformat_minor": 2
}
